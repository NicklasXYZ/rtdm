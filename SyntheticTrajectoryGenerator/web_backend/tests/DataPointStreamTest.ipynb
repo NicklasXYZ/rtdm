{
 "cells": [
  {
   "cell_type": "code",
   "execution_count": 42,
   "metadata": {},
   "outputs": [],
   "source": [
    "# Import helper methods for interacting with the backend\n",
    "from test_utilities import (\n",
    "    User,\n",
    "    create_datapoint_data_json,\n",
    ")\n",
    "from load_datapoints import (\n",
    "    parse_gpx\n",
    ")\n",
    "from datetime import datetime\n",
    "rel_path = \"./gpsdata\"\n",
    "datapoints = parse_gpx(rel_path)\n",
    "counter = 0"
   ]
  },
  {
   "cell_type": "code",
   "execution_count": 37,
   "metadata": {},
   "outputs": [],
   "source": [
    "user = None"
   ]
  },
  {
   "cell_type": "code",
   "execution_count": 38,
   "metadata": {},
   "outputs": [
    {
     "name": "stderr",
     "output_type": "stream",
     "text": [
      "DEBUG:urllib3.connectionpool:Starting new HTTP connection (1): localhost:8000\n",
      "DEBUG:urllib3.connectionpool:http://localhost:8000 \"POST /api/v1/users/ HTTP/1.1\" 201 169\n"
     ]
    },
    {
     "name": "stdout",
     "output_type": "stream",
     "text": [
      "201 <-- Status code. Function: create_user\n"
     ]
    }
   ],
   "source": [
    "# Create a user\n",
    "if user is None:\n",
    "    user = User()\n",
    "    user.create_user()"
   ]
  },
  {
   "cell_type": "code",
   "execution_count": 107,
   "metadata": {},
   "outputs": [
    {
     "name": "stderr",
     "output_type": "stream",
     "text": [
      "DEBUG:urllib3.connectionpool:Starting new HTTP connection (1): localhost:8000\n",
      "DEBUG:urllib3.connectionpool:http://localhost:8000 \"POST /api/v1/users/me/datapoints/ HTTP/1.1\" 201 191\n"
     ]
    },
    {
     "name": "stdout",
     "output_type": "stream",
     "text": [
      "201 <-- Status code. Function: create_datapoint\n"
     ]
    }
   ],
   "source": [
    "# datapoint = create_datapoint_data_json()\n",
    "# user.create_datapoint(\n",
    "#     lon = datapoint[\"longitude\"], lat = datapoint[\"latitude\"], timestamp = str(datetime.utcnow()),\n",
    "# )\n",
    "datapoint = datapoints[counter]\n",
    "user.create_datapoint(\n",
    "    lon = datapoint[1], lat = datapoint[0], timestamp = str(datapoint[2]),\n",
    ")\n",
    "counter += 1\n"
   ]
  }
 ],
 "metadata": {
  "kernelspec": {
   "display_name": "Python 3",
   "language": "python",
   "name": "python3"
  },
  "language_info": {
   "codemirror_mode": {
    "name": "ipython",
    "version": 3
   },
   "file_extension": ".py",
   "mimetype": "text/x-python",
   "name": "python",
   "nbconvert_exporter": "python",
   "pygments_lexer": "ipython3",
   "version": "3.8.5"
  }
 },
 "nbformat": 4,
 "nbformat_minor": 4
}
